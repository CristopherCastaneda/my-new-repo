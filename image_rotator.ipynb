{
 "cells": [
  {
   "cell_type": "code",
   "execution_count": 1,
   "id": "21b658c1-741b-489e-9653-2e91618167e2",
   "metadata": {},
   "outputs": [
    {
     "name": "stdout",
     "output_type": "stream",
     "text": [
      "(474, 106)\n"
     ]
    }
   ],
   "source": [
    "# image_rotator.py\n",
    "\n",
    "from PIL import Image # importa el módulo Image de la librería PIL\n",
    "\n",
    "# carga una imagen llamada 'tripleten_logo.jpeg'.\n",
    "im = Image.open('tripleten_logo.jpeg.png')\n",
    "\n",
    "# obtén el tamaño de la imagen mediante el atributo .size y muéstralo\n",
    "print(im.size)\n",
    "\n",
    "# gira la imagen 90 grados en sentido contrario a las agujas del reloj\n",
    "rotated = im.rotate(90)\n",
    "\n",
    "# guarda la imagen girada\n",
    "rotated.save('rotated.png')"
   ]
  },
  {
   "cell_type": "code",
   "execution_count": 2,
   "id": "9a3812eb-85ec-462c-a610-361748d773e5",
   "metadata": {},
   "outputs": [
    {
     "name": "stderr",
     "output_type": "stream",
     "text": [
      "usage: ipykernel_launcher.py [-h] input_file output_file angle\n",
      "ipykernel_launcher.py: error: the following arguments are required: output_file, angle\n"
     ]
    },
    {
     "ename": "SystemExit",
     "evalue": "2",
     "output_type": "error",
     "traceback": [
      "An exception has occurred, use %tb to see the full traceback.\n",
      "\u001b[1;31mSystemExit\u001b[0m\u001b[1;31m:\u001b[0m 2\n"
     ]
    },
    {
     "name": "stderr",
     "output_type": "stream",
     "text": [
      "C:\\Users\\PcGaming\\anaconda3\\Lib\\site-packages\\IPython\\core\\interactiveshell.py:3585: UserWarning: To exit: use 'exit', 'quit', or Ctrl-D.\n",
      "  warn(\"To exit: use 'exit', 'quit', or Ctrl-D.\", stacklevel=1)\n"
     ]
    }
   ],
   "source": [
    "# image_rotator.py\n",
    "\n",
    "from PIL import Image\n",
    "import argparse # importa el módulo argparse\n",
    "\n",
    "# inicializa el analizador sintáctico\n",
    "parser = argparse.ArgumentParser()\n",
    "\n",
    "# agrega argumentos con sus nombres correspondientes\n",
    "parser.add_argument('input_file')      # primer argumento: archivo de entrada\n",
    "parser.add_argument('output_file')     # segundo argumento: archivo de salida\n",
    "parser.add_argument('angle', type=int) # tercer argumento: ángulo\n",
    "\n",
    "# analiza los argumentos\n",
    "args = parser.parse_args()\n",
    "\n",
    "# carga una imagen del argumento input_file\n",
    "im = Image.open(args.input_file)\n",
    "\n",
    "# muestra el tamaño de la imagen\n",
    "print(im.size)\n",
    "\n",
    "# gira la imagen en un ángulo proporcionado como argumento\n",
    "rotated = im.rotate(args.angle)\n",
    "\n",
    "# guarda la imagen girada usando la ruta de salida de un argumento output_file\n",
    "rotated.save(args.output_file)"
   ]
  },
  {
   "cell_type": "code",
   "execution_count": null,
   "id": "0b22b501-3db3-48b3-870c-6e38709850b9",
   "metadata": {},
   "outputs": [],
   "source": []
  }
 ],
 "metadata": {
  "kernelspec": {
   "display_name": "Python [conda env:base] *",
   "language": "python",
   "name": "conda-base-py"
  },
  "language_info": {
   "codemirror_mode": {
    "name": "ipython",
    "version": 3
   },
   "file_extension": ".py",
   "mimetype": "text/x-python",
   "name": "python",
   "nbconvert_exporter": "python",
   "pygments_lexer": "ipython3",
   "version": "3.13.5"
  }
 },
 "nbformat": 4,
 "nbformat_minor": 5
}
